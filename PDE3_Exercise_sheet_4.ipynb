{
 "cells": [
  {
   "cell_type": "markdown",
   "id": "962784a8",
   "metadata": {},
   "source": [
    "### Partial Differential Equations 3: Exercise sheet 4\n",
    "\n",
    "These practice questions are similar to the exercises in the textbook and in Schaum's outlines Partial Differential Equations. If you are having difficulties with these questions practice using the remaining questions from these exercise. You will get the best from this tutorial by working though these examples __before__ the tutorial.\n",
    "\\\n",
    "\\\n",
    "__Q1__\n",
    "(Adapted from exercises 9.5.2 of Advanced Modern Engineering Mathematics)\n",
    "\n",
    "a) Show that the function $\\phi(x,y)=x^2y$ satisfies the 2-d Poisson equation\n",
    "\n",
    "\\begin{align}\n",
    "\\nabla^2 \\phi = \\frac{\\partial^2 \\phi(x,y)}{\\partial x^2} + \\frac{\\partial^2 \\phi(x,y)}{\\partial y^2} = 2y & & (1)\n",
    "\\end{align}\n",
    "\n",
    "b) Now let $\\phi(x,y) = u(x,y) + x^2y$, where $u(x,y)$ satisfies the Laplace equation $\\nabla^2 u = 0$. Show that $\\phi(x,y)$ still satisfies the Poisson equation (1).\n",
    "\n",
    "c) Use the method of separated solutions to find the solution for $\\phi(x,y)$ in the unit square which satisfies the boundary conditions\n",
    "\n",
    "\\begin{align}\n",
    "\\phi(0, y) &= 0, & 0 \\le y \\le 1 && (2) \\\\\n",
    "\\phi(1, y) &= y, & 0 \\le y \\le 1 && (3) \\\\\n",
    "\\phi(x, 0) &= 0, & 0 \\le x \\le 1 && (4) \\\\\n",
    "\\phi(x, 1) &= x^2 + \\sin\\pi x, & 0 \\le x \\le 1 && (5)\n",
    "\\end{align}\n",
    "\n",
    "d) Use Python to plot the solution.\n",
    "\\\n",
    "\\\n",
    "__Q2__\n",
    "This question concerns steady-state heat flow radially within a long cyclindrical pipe with uniform material properties. Heat flow is modelled with the Laplace equation on an annulus with inner and outer radii $r=1$ and $r=2$ (all parameters are in non-dimensional form).\n",
    "\n",
    "The boundary conditions on the non-dimensional temperature profile, $T(r,\\theta)$, are,\n",
    "\n",
    "\\begin{align}\n",
    "T(1,\\theta) &= 2\\sin^2(\\theta) &= 0\\le\\theta<2\\pi && (6) \\\\\n",
    "T(2,\\theta) &= 0 &= 0\\le\\theta<2\\pi && (7)\n",
    "\\end{align}\n",
    "\n",
    "a) Derive the analytical solution of the Laplace equation for the nondimensional temperature on the annulus with the given boundary conditions using the method of separated solutions. Note, the Lapalace equation in cyclindrical coordinates is given by,\n",
    "\n",
    "\\begin{align}\n",
    "\\frac{\\partial^2 T}{\\partial r^2} + \\frac{1}{r}\\frac{\\partial T}{\\partial r} + \\frac{1}{r^2}\\frac{\\partial^2 T}{\\partial \\theta^2} = 0 && \\quad (8)\n",
    "\\end{align}\n",
    "\n",
    "with a separated solution of the form $T(r,\\theta) = R(r) \\Theta(\\theta)$.\n",
    "\\\n",
    "\\\n",
    "b) Use Python to plot the solution."
   ]
  },
  {
   "cell_type": "code",
   "execution_count": null,
   "id": "cd758389",
   "metadata": {},
   "outputs": [],
   "source": []
  }
 ],
 "metadata": {
  "kernelspec": {
   "display_name": "Python 3 (ipykernel)",
   "language": "python",
   "name": "python3"
  },
  "language_info": {
   "codemirror_mode": {
    "name": "ipython",
    "version": 3
   },
   "file_extension": ".py",
   "mimetype": "text/x-python",
   "name": "python",
   "nbconvert_exporter": "python",
   "pygments_lexer": "ipython3",
   "version": "3.9.13"
  }
 },
 "nbformat": 4,
 "nbformat_minor": 5
}
