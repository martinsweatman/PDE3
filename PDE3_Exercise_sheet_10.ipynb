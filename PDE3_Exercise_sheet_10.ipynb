{
 "cells": [
  {
   "cell_type": "markdown",
   "id": "bcc0cf32",
   "metadata": {},
   "source": [
    "### Partial Differential Equations 3: Exercise sheet 10\n",
    "\n",
    "The practice questions are similar to the exercises in the textbook and in Schaum's outlines Partial Differential Equations. If you are having difficulties with these questions practice using the remaining questions from these exercise. You will get the best from this tutorial by working though these examples __before__ the tutorial.\n",
    "\\\n",
    "\\\n",
    "\\\n",
    "__Q1__\n",
    "\n",
    "a) Consider the hyperbolic PDE\n",
    "\n",
    "\\begin{align}\n",
    "A \\frac{\\partial^2 u}{\\partial t^2} + 2B \\frac{\\partial^2 u}{\\partial t \\partial x} + C \\frac{\\partial^2u}{\\partial x^2} = 0 && (1)\n",
    "\\end{align}\n",
    "\n",
    "defined $\\forall x$ and $t\\geq0$ with the boundary and initial conditions\n",
    "\n",
    "\\begin{align}\n",
    "u(x,0)&= F(x), & \\forall x && (2) \\\\\n",
    "\\frac{\\partial u(x,0)}{\\partial t} &= G(x), & \\forall x && (3)\n",
    "\\end{align}\n",
    "\n",
    "Show that \n",
    "\n",
    "\\begin{align}\n",
    "u(x,t)=\\frac{1}{c_1 - c_2}\\left( c_1 F(x+c_2t) - c_2 F(x+c_1t) + \\int_{x+c_2t}^{x+c_1t} G(z) dz\\right)\n",
    "\\end{align}\n",
    "\n",
    "is a solution of (1 - 3) if the wave velocities are $c_{1,2}=\\frac{-B \\pm \\sqrt{B^2-AC}}{A}$, where $B^2>AC$."
   ]
  },
  {
   "cell_type": "code",
   "execution_count": null,
   "id": "da24d11a",
   "metadata": {},
   "outputs": [],
   "source": []
  }
 ],
 "metadata": {
  "kernelspec": {
   "display_name": "Python 3 (ipykernel)",
   "language": "python",
   "name": "python3"
  },
  "language_info": {
   "codemirror_mode": {
    "name": "ipython",
    "version": 3
   },
   "file_extension": ".py",
   "mimetype": "text/x-python",
   "name": "python",
   "nbconvert_exporter": "python",
   "pygments_lexer": "ipython3",
   "version": "3.9.13"
  }
 },
 "nbformat": 4,
 "nbformat_minor": 5
}
